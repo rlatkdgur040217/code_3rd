{
  "nbformat": 4,
  "nbformat_minor": 0,
  "metadata": {
    "colab": {
      "provenance": [],
      "authorship_tag": "ABX9TyNDFBFoAjby5aOPR0Rncnjz",
      "include_colab_link": true
    },
    "kernelspec": {
      "name": "python3",
      "display_name": "Python 3"
    },
    "language_info": {
      "name": "python"
    }
  },
  "cells": [
    {
      "cell_type": "markdown",
      "metadata": {
        "id": "view-in-github",
        "colab_type": "text"
      },
      "source": [
        "<a href=\"https://colab.research.google.com/github/rlatkdgur040217/code_3rd/blob/main/py231019.ipynb\" target=\"_parent\"><img src=\"https://colab.research.google.com/assets/colab-badge.svg\" alt=\"Open In Colab\"/></a>"
      ]
    },
    {
      "cell_type": "code",
      "execution_count": null,
      "metadata": {
        "id": "tH6UVuC1uvx6"
      },
      "outputs": [],
      "source": []
    },
    {
      "cell_type": "markdown",
      "source": [
        "1. To-Do List를 작성하시오.\n",
        "- 2023년 10월 19일\n",
        "- (1) 09:20 도서관에서 책 빌리기\n",
        "- (2) 11:10 컴퓨팅적사고와 기초코딩 수업\n",
        "- (3) 13:00 점심식사\n",
        "- (4) 14:10 교양수업\n",
        "- (5) 16:00 파이썬 공부 및 레포트 작성\n",
        "- (6) 17:40 저녁식사 및 집안일 돕기\n",
        "- (7) 19:00 lol하기"
      ],
      "metadata": {
        "id": "FQCoFlauvzPv"
      }
    },
    {
      "cell_type": "code",
      "source": [
        "print (\"hello world!\")                   # \"hello world!\"를 출력합니다.\n",
        "print (\"1.To-Do List를 작성하시오.\")     # \"1.To-Do List를 작성하시오.\"를 출력합니다.\n",
        "print (\"2023년 10월 19일\")               # \"2023년 10월 19일\"을 출력합니다.\n",
        "print (\"(1) 09:20 도서관에서 책 빌리기\")           # \"(1) 09:20 도서관에서 책 빌리기\"를 출력합니다.\n",
        "print (\"(2) 11:10 컴퓨팅적사고와 기초코딩 수업\")    # \"(2) 11:10 컴퓨팅적 사고와 기초 코딩 수업\"을 출력합니다.\n",
        "print (\"(3) 13:00 점심식사\")                       # \"(3) 13:00 점심식사\"를 출력합니다.\n",
        "print (\"(4) 14:00 교양수업\")                       # \"(4) 14:00 교양수업\"을 출력합니다.\n",
        "print (\"(5) 16:00 파이썬 공부 및 레포트 작성\")      # \"(5) 16:00 파이썬 공부 및 레포트 작성\"을 출력합니다.\n",
        "print (\"(6) 17:40 저녁식사 및 집안일 돕기\")         # \"(6) 17:40 저녁식사 및 집안일 돕기\"를 출력합니다.\n",
        "print (\"(7) 19:00 lol하기\")                        # \"(7) 19:00 lol하기\"를 출력합니다."
      ],
      "metadata": {
        "colab": {
          "base_uri": "https://localhost:8080/"
        },
        "id": "eJ7j5bQUyENN",
        "outputId": "232029e9-dd77-4f4e-d4ab-90b2d5bf6182"
      },
      "execution_count": null,
      "outputs": [
        {
          "output_type": "stream",
          "name": "stdout",
          "text": [
            "hello world!\n",
            "1.To-Do List를 작성하시오.\n",
            "2023년 10월 19일\n",
            "(1) 09:20 도서관에서 책 빌리기\n",
            "(2) 11:10 컴퓨팅적사고와 기초코딩 수업\n",
            "(3) 13:00 점심식사\n",
            "(4) 14:00 교양수업\n",
            "(5) 16:00 파이썬 공부 및 레포트 작성\n",
            "(6) 17:40 저녁식사 및 집안일 돕기\n",
            "(7) 19:00 lol하기\n"
          ]
        }
      ]
    },
    {
      "cell_type": "markdown",
      "source": [
        "2. 인사말 출력하기\n",
        " - 식사하셨습닏까?행님"
      ],
      "metadata": {
        "id": "aX3PL2EnwVC7"
      }
    },
    {
      "cell_type": "code",
      "source": [
        "print (\"식사는하셨습니까?행님\")                  # \"식사는하셨습니까?행님\"을 출력합니다."
      ],
      "metadata": {
        "colab": {
          "base_uri": "https://localhost:8080/"
        },
        "id": "LC7mf-1Uy5P8",
        "outputId": "7e44d2a1-4bb5-4020-f694-dbf2a0620b9a"
      },
      "execution_count": null,
      "outputs": [
        {
          "output_type": "stream",
          "name": "stdout",
          "text": [
            "식사는하셨습니까?행님\n"
          ]
        }
      ]
    },
    {
      "cell_type": "markdown",
      "source": [
        "3. 학생 4명의 국어점수를 입력받아서 아래와 같이 출력하시오.\n",
        " - 박보검: 90점\n",
        " - 션    : 92점\n",
        " - 도룡용: 80점\n",
        " - 차은우: 99점\n",
        " - 1등 차은우\n",
        " - 2등 션\n",
        " - 3등 박보검\n",
        " - 4등 도룡용"
      ],
      "metadata": {
        "id": "N-NwlrZawtov"
      }
    },
    {
      "cell_type": "code",
      "source": [
        "print(\"학생 4명의 국어점수를 입력받아서 아래와 같이 출력하시오.\")\n",
        "n1=(input(\" 박보검의 값을 입력하시오.\"))                                   # 각 학생의 국어점수를 입력받습니다.\n",
        "n2=(input(\"션의 값을 입력하시오.\"))\n",
        "n3=(input(\"도룡용의 값을 입력하시오.\"))\n",
        "n4=(input(\"차은우의 값을 입력하시오.\"))\n",
        "print(\"1등 차은우\",n4,\"점\")                                               # 입력받은 점수를 바탕으로 등수와 함께 출력합니다.\n",
        "print(\"2등 션 \",n2,\"점\")\n",
        "print(\"3등 박보검\",n1,\"점\")\n",
        "print(\"4등 도룡용\",n3,\"점\")\n"
      ],
      "metadata": {
        "colab": {
          "base_uri": "https://localhost:8080/"
        },
        "id": "c1uYsKFI2J7S",
        "outputId": "98741ab7-6628-48ac-bfb6-069ace87e80a"
      },
      "execution_count": null,
      "outputs": [
        {
          "output_type": "stream",
          "name": "stdout",
          "text": [
            "학생 4명의 국어점수를 입력받아서 아래와 같이 출력하시오.\n",
            " 박보검의 값을 입력하시오.90\n",
            "션의 값을 입력하시오.92\n",
            "도룡용의 값을 입력하시오.80\n",
            "차은우의 값을 입력하시오.99\n",
            "1등 차은우 99 점\n",
            "2등 션  92 점\n",
            "3등 박보검 90 점\n",
            "4등 도룡용 80 점\n"
          ]
        }
      ]
    },
    {
      "cell_type": "code",
      "source": [],
      "metadata": {
        "id": "xCBIIOLSzW4y"
      },
      "execution_count": null,
      "outputs": []
    },
    {
      "cell_type": "markdown",
      "source": [
        "4. 두개의 점수를 입력받아서 합계와 평균을 출력하시오."
      ],
      "metadata": {
        "id": "bjd7uy4PxhBQ"
      }
    },
    {
      "cell_type": "code",
      "source": [
        "n1=int(input(\"n1의 값을 입력하시오.:\"))           # 사용자로부터 n1의 값을 입력받습니다.\n",
        "n2=int(input(\"n2의 값을 입력하시오.:\"))            # 사용자로부터 n2의 값을 입력받습니다.\n",
        "total= n1 + n2                                  # n1과 n2의 합을 계산하여 total 변수에 저장합니다.\n",
        "average = total // 2                           # total을 2로 나눈 몫을 계산하여 average 변수에 저장합니다.\n",
        "print(total)                  # 두 수의 합을 출력합니다.\n",
        "print(average)                # 두 수의 평균을 출력합니다.\n"
      ],
      "metadata": {
        "colab": {
          "base_uri": "https://localhost:8080/"
        },
        "id": "SD6f9-a34Daw",
        "outputId": "e92b9bee-e80e-460e-8949-e216f4d2bd9c"
      },
      "execution_count": null,
      "outputs": [
        {
          "output_type": "stream",
          "name": "stdout",
          "text": [
            "n1의 값을 입력하시오.:90\n",
            "n2의 값을 입력하시오.:92\n",
            "182\n",
            "91\n"
          ]
        }
      ]
    }
  ]
}
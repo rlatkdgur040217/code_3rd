{
  "nbformat": 4,
  "nbformat_minor": 0,
  "metadata": {
    "colab": {
      "provenance": [],
      "authorship_tag": "ABX9TyN9kONQC1v/KlFwgNf/hTls",
      "include_colab_link": true
    },
    "kernelspec": {
      "name": "python3",
      "display_name": "Python 3"
    },
    "language_info": {
      "name": "python"
    }
  },
  "cells": [
    {
      "cell_type": "markdown",
      "metadata": {
        "id": "view-in-github",
        "colab_type": "text"
      },
      "source": [
        "<a href=\"https://colab.research.google.com/github/rlatkdgur040217/code_3rd/blob/main/CTBL_1.ipynb\" target=\"_parent\"><img src=\"https://colab.research.google.com/assets/colab-badge.svg\" alt=\"Open In Colab\"/></a>"
      ]
    },
    {
      "cell_type": "code",
      "execution_count": null,
      "metadata": {
        "id": "UQWgq2WL1D_U"
      },
      "outputs": [],
      "source": []
    },
    {
      "cell_type": "markdown",
      "source": [
        "1.학생으로부터 성적을 입력받아 합격유무를 출력하는 코드작성\n",
        "- 사용변수: Grade\n",
        "- 사용수식: Grade >=70:\n"
      ],
      "metadata": {
        "id": "JibAsGfu1PR8"
      }
    },
    {
      "cell_type": "code",
      "source": [
        "Grade = int(input(\"성적입력: \"))               # 사용자로부터 성적을 입력받습니다.\n",
        "if Grade >=70:                                # 만약 성적이 70점 이상이라면\n",
        "  print(\"70점 이상이므로 합격\")               # \"70점 이상이므로 합격\"을 출력합니다.\n",
        "else:\n",
        "  print(\"70이하는 불합격\")                    # 그렇지 않으면 \"70이하는 불합격\"을 출력합니다.\n"
      ],
      "metadata": {
        "colab": {
          "base_uri": "https://localhost:8080/"
        },
        "id": "q0yI47fr1k_m",
        "outputId": "66ef6e9d-b92e-4b4f-c0f6-bb121718848c"
      },
      "execution_count": null,
      "outputs": [
        {
          "output_type": "stream",
          "name": "stdout",
          "text": [
            "성적입력: 70\n",
            "70점 이상이므로 합격\n"
          ]
        }
      ]
    },
    {
      "cell_type": "markdown",
      "source": [
        "2.쇼핑물의 배송료를 계산하는 코드 작성\n",
        " - 변수명 : price, shipping_cost\n",
        " - 수식 : price >= 20000\n",
        " - shipping_cost = 3000"
      ],
      "metadata": {
        "id": "OYA_0FQw3wLl"
      }
    },
    {
      "cell_type": "code",
      "source": [
        "price = int(input(\"구입 금액 입력: \" ))                # 사용자로부터 구입 금액을 입력받습니다.\n",
        "if price >= 20000:                                   # 만약 구입 금액이 20,000 이상이라면\n",
        "  shipping_cost = 0                                  # 배송료는 0입니다.\n",
        "  print(f'구입금액이 {price}원 이상입니다.')\n",
        "else:\n",
        "  shipping_cost = 3000                               # 그렇지 않으면 배송료는 3,000입니다.\n",
        "  print(\"구입금액이 2만원 이하입니다\")\n",
        "print(f'회원님의 배송료는 {shipping_cost}입니다.')\n"
      ],
      "metadata": {
        "colab": {
          "base_uri": "https://localhost:8080/"
        },
        "id": "b-lcn2Pe41tg",
        "outputId": "564f9b54-cfc6-473e-fc24-3dd2e9cbc33c"
      },
      "execution_count": null,
      "outputs": [
        {
          "output_type": "stream",
          "name": "stdout",
          "text": [
            "구입 금액 입력: 20000\n",
            "구입금액이 20000원 이상입니다.\n",
            "회원님의 배송료는 0입니다.\n"
          ]
        }
      ]
    },
    {
      "cell_type": "markdown",
      "source": [
        "3. 근무시간에 따라 초과근무와 정상근무를 판별하는 코드작성\n",
        " - 변수 : work_hour\n",
        " - 수식 : >= , 기준시간:72시간"
      ],
      "metadata": {
        "id": "JhP4LUH97G6s"
      }
    },
    {
      "cell_type": "code",
      "source": [
        "work_hour = int(input(\"근무시간 입력: \"))               # 사용자로부터 근무 시간을 입력받습니다.\n",
        "if work_hour >= 72:                                    # 만약 근무 시간이 72시간 이상이라면\n",
        "  print(\"초과근무하였습니다.\")                         # \"초과 근무하였습니다.\"를 출력합니다.\n",
        "else:\n",
        "  print(\"정상근무하였습니다.\")                         # 그렇지 않으면 \"정상 근무하였습니다.\"를 출력합니다.\n"
      ],
      "metadata": {
        "colab": {
          "base_uri": "https://localhost:8080/"
        },
        "id": "byBlqP7l5uEI",
        "outputId": "33ded6da-9cd3-4c4a-fd12-1de8640aa56c"
      },
      "execution_count": null,
      "outputs": [
        {
          "output_type": "stream",
          "name": "stdout",
          "text": [
            "근무시간 입력: 69\n",
            "정상근무하였습니다.\n"
          ]
        }
      ]
    },
    {
      "cell_type": "markdown",
      "source": [
        "4. 정수를 입력받아서 짝수인지 홀수인지 판별하는 코드 작성\n",
        " - 변수: num\n",
        " - 수식 : (num %2) != 0:\n"
      ],
      "metadata": {
        "id": "Ja_yUGDl9-ET"
      }
    },
    {
      "cell_type": "code",
      "source": [
        "num = int(input(\"정수를 입력하시오: \"))                  # 사용자로부터 정수를 입력받습니다.\n",
        "if num %2 != 0:                                     # 만약 입력된 수가 홀수라면\n",
        "  print(\"홀수입니다.\")                               # \"홀수입니다.\"를 출력합니다.\n",
        "else:\n",
        "  print(\"짝수입니다.\")                                 # 그렇지 않으면 \"짝수입니다.\"를 출력합니다."
      ],
      "metadata": {
        "colab": {
          "base_uri": "https://localhost:8080/"
        },
        "id": "4iTjCi3k-uvz",
        "outputId": "9d4554a8-7b8a-454b-ae9f-c899850481a9"
      },
      "execution_count": null,
      "outputs": [
        {
          "output_type": "stream",
          "name": "stdout",
          "text": [
            "정수를 입력하시오: 4\n",
            "짝수입니다.\n"
          ]
        }
      ]
    },
    {
      "cell_type": "markdown",
      "source": [
        "5. 사용자의 이름과 나이를 입력받고,답변하는 코드 작성\n",
        " - 입력 : 성명 - name\n",
        " - 입력 : 나이 - age\n",
        " - 수식 : if age <= 20:\n",
        "\n",
        " 최종 출력물\n",
        " - 이름을 입력하시오.: 김상혁\n",
        " - 나이를 입력하시오.: 20\n",
        " - (1) 프로그래밍을 배우는 최적의 나이 입니다.\n",
        " - (2) 아직도 늦지 않았습니다. 도전정신"
      ],
      "metadata": {
        "id": "6rBghFWkAl9u"
      }
    },
    {
      "cell_type": "code",
      "source": [
        "name = input(\"이름을 입력하시오.: \")\n",
        "age = int(input(\"나이를 입력하시오.: \"))\n",
        "if age <= 20:\n",
        "  print(\"프로그래밍을 배우는 최적의 나이입니다.\")\n",
        "else:\n",
        "  print(\"아직도 늦지 않았습니다.도전정신\")\n"
      ],
      "metadata": {
        "colab": {
          "base_uri": "https://localhost:8080/"
        },
        "id": "n1ax-dg2BW2C",
        "outputId": "983cbd45-b0bc-4cb2-a13a-b99d1521afe5"
      },
      "execution_count": null,
      "outputs": [
        {
          "output_type": "stream",
          "name": "stdout",
          "text": [
            "이름을 입력하시오.: 김상혁\n",
            "나이를 입력하시오.: 20\n",
            "프로그래밍을 배우는 최적의 나이입니다.\n"
          ]
        }
      ]
    },
    {
      "cell_type": "code",
      "source": [
        "import random\n",
        "\n",
        "def generate_lotto_numbers():            # 1부터 45까지의 숫자 중 6개를 랜덤으로 선택하여 출력합니다.\n",
        "    return random.sample(range(1, 46), 6)\n",
        "\n",
        "print(generate_lotto_numbers())"
      ],
      "metadata": {
        "colab": {
          "base_uri": "https://localhost:8080/"
        },
        "id": "KUxWWcLQFCua",
        "outputId": "ed831da6-0d47-4670-9483-0220785f102c"
      },
      "execution_count": null,
      "outputs": [
        {
          "output_type": "stream",
          "name": "stdout",
          "text": [
            "[24, 25, 5, 1, 39, 35]\n"
          ]
        }
      ]
    },
    {
      "cell_type": "code",
      "source": [
        "# 사용자의 이름을 입력받습니다.\n",
        "name = input(\"당신의 이름을 입력해주세요: \")                 # 사용자로부터 이름을 입력받습니다.\n",
        "\n",
        "# 사용자의 나이를 입력받습니다.\n",
        "age = input(\"당신의 나이를 입력해주세요: \")                    # 사용자로부터 나이를 입력받습니다.\n",
        "\n",
        "# 사용자의 이름과 나이를 출력합니다.\n",
        "print(f\"당신의 이름은 {name}이고, 나이는 {age}살입니다.\")          # 입력받은 이름과 나이를 출력합니다."
      ],
      "metadata": {
        "colab": {
          "base_uri": "https://localhost:8080/"
        },
        "id": "aA0bfuO-GTAp",
        "outputId": "3db36a56-c90f-407e-d3ab-e41ab5325a2b"
      },
      "execution_count": null,
      "outputs": [
        {
          "output_type": "stream",
          "name": "stdout",
          "text": [
            "당신의 이름을 입력해주세요: 김상혁\n",
            "당신의 나이를 입력해주세요: 20\n",
            "당신의 이름은 김상혁이고, 나이는 20살입니다.\n"
          ]
        }
      ]
    }
  ]
}